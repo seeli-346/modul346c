{
 "cells": [
  {
   "cell_type": "markdown",
   "metadata": {},
   "source": [
    "# API Aufrufe mit Python !!!"
   ]
  },
  {
   "cell_type": "code",
   "execution_count": 2,
   "metadata": {},
   "outputs": [],
   "source": [
    "import requests\n",
    "import json"
   ]
  },
  {
   "cell_type": "markdown",
   "metadata": {},
   "source": [
    "Wir beginnen damit, dass wir die vorher erfassten Users abrufen\n",
    "\n",
    "Dazu musst du die zuvor für dich generierte URL in der nächsten Zelle eintragen"
   ]
  },
  {
   "cell_type": "code",
   "execution_count": 5,
   "metadata": {},
   "outputs": [],
   "source": [
    "url = \"https://cab8836c98d6451e0b00.free.beeceptor.com/api/users\""
   ]
  },
  {
   "cell_type": "code",
   "execution_count": 6,
   "metadata": {},
   "outputs": [
    {
     "data": {
      "text/plain": [
       "[{'first_name': 'Maxime',\n",
       "  'last_name': 'Mustermann',\n",
       "  'age': 25,\n",
       "  'is_active': True,\n",
       "  'id': '8ea4668bad92a9ddfd32'},\n",
       " {'first_name': 'Fabian',\n",
       "  'last_name': 'Graf',\n",
       "  'age': 25,\n",
       "  'is_active': False,\n",
       "  'id': '0f9fc9118afd360e4aaf'}]"
      ]
     },
     "execution_count": 6,
     "metadata": {},
     "output_type": "execute_result"
    }
   ],
   "source": [
    "# Make the Get request\n",
    "response = requests.get(\n",
    "    url=url\n",
    ")\n",
    "\n",
    "response.json()"
   ]
  },
  {
   "cell_type": "code",
   "execution_count": 7,
   "metadata": {},
   "outputs": [
    {
     "name": "stdout",
     "output_type": "stream",
     "text": [
      "{'first_name': 'Felix', 'last_name': 'Huber', 'age': 22, 'is_active': True, 'id': 'b52520bff9425bbff12a'}\n"
     ]
    }
   ],
   "source": [
    "# Jetzt erfassen wir einen neuen User\n",
    "\n",
    "headers = {\n",
    "    'Content-Type': 'application/json',\n",
    "    'Accept': 'application/json'\n",
    "}\n",
    "\n",
    "data = {\n",
    "  \"first_name\": \"Felix\",\n",
    "  \"last_name\": \"Huber\",\n",
    "  \"age\": 22,\n",
    "  \"is_active\": True\n",
    "}\n",
    "\n",
    "# Make the POST request\n",
    "response = requests.post(\n",
    "    url= url,\n",
    "    data=json.dumps(data),\n",
    "    headers=headers\n",
    ")\n",
    "\n",
    "print(response.json())\n",
    "\n"
   ]
  },
  {
   "cell_type": "code",
   "execution_count": 9,
   "metadata": {},
   "outputs": [
    {
     "name": "stdout",
     "output_type": "stream",
     "text": [
      "{'first_name': 'Felix', 'last_name': 'Meier', 'age': 22, 'is_active': True, 'id': 'b52520bff9425bbff12a'}\n"
     ]
    }
   ],
   "source": [
    "data = {\n",
    "  \"first_name\": \"Felix\",\n",
    "  \"last_name\": \"Meier\",\n",
    "  \"age\": 22,\n",
    "  \"is_active\": True\n",
    "}\n",
    "\n",
    "url2 = url + '/b52520bff9425bbff12a'\n",
    "\n",
    "# Make the PUT request\n",
    "response = requests.put(\n",
    "    url= url2,\n",
    "    data=json.dumps(data),\n",
    "    headers=headers\n",
    ")\n",
    "\n",
    "print(response.json())"
   ]
  }
 ],
 "metadata": {
  "kernelspec": {
   "display_name": "Python 3",
   "language": "python",
   "name": "python3"
  },
  "language_info": {
   "codemirror_mode": {
    "name": "ipython",
    "version": 3
   },
   "file_extension": ".py",
   "mimetype": "text/x-python",
   "name": "python",
   "nbconvert_exporter": "python",
   "pygments_lexer": "ipython3",
   "version": "3.12.1"
  }
 },
 "nbformat": 4,
 "nbformat_minor": 2
}
